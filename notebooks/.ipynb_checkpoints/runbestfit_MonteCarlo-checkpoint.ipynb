{
 "cells": [
  {
   "cell_type": "code",
   "execution_count": 1,
   "metadata": {
    "colab": {
     "base_uri": "https://localhost:8080/",
     "height": 131
    },
    "colab_type": "code",
    "id": "i5LEVLIAggeb",
    "outputId": "e59f6006-dfaf-439a-a608-6a769e003693"
   },
   "outputs": [],
   "source": [
    "from scipy.integrate import odeint\n",
    "from scipy.optimize import minimize_scalar,minimize\n",
    "import numpy as np\n",
    "import matplotlib.pyplot as plt\n",
    "from scipy.interpolate import interp1d\n",
    "import pandas as pd\n",
    "from scipy import stats\n",
    "from multiprocessing import Process,Queue,Pool\n",
    "import matplotlib\n",
    "matplotlib.rcParams['figure.dpi'] = 500\n",
    "import pickle as pkl\n",
    "import importlib\n",
    "from matplotlib.backends.backend_pdf import PdfPages\n",
    "from functools import partial\n",
    "import sys\n",
    "sys.path.append(\"../src/\")\n",
    "from flux_finding_mp import *\n",
    "rd.seed(1000)\n",
    "np.random.seed(1000)"
   ]
  },
  {
   "cell_type": "code",
   "execution_count": 2,
   "metadata": {
    "colab": {},
    "colab_type": "code",
    "id": "DhwpCRj-HEAP"
   },
   "outputs": [],
   "source": [
    "cellType = \"SC P\" #RAS PC3 DITNC1 SC P 0.75mM2DG 2mM2DG 5mM2DG 10mM2DG\n",
    "numCores = 10\n",
    "numBestFitIters = 100\n",
    "numMonteCarloIters = 500\n",
    "numMonteCarloIters_downsample = 200"
   ]
  },
  {
   "cell_type": "code",
   "execution_count": 3,
   "metadata": {},
   "outputs": [
    {
     "name": "stdout",
     "output_type": "stream",
     "text": [
      "{'NAD(H)': 0.7646586470000001, 'Malate': 1.552337081, 'G3P': 0.187226733, 'Lactate': 6.6147980429999995}\n",
      "14.44 19.97\n"
     ]
    }
   ],
   "source": [
    "concentration = pd.read_csv(\"../data/concentrations.csv\",index_col=0)\n",
    "excret = pd.read_csv(\"../data/excretion_flux.csv\",index_col=0)\n",
    "lacEx = excret.at[cellType,\"lactate_excretion_fmol_cell_min\"]\n",
    "gluUp = excret.at[cellType,\"glucose_uptake_fmol_cell_min\"]\n",
    "concs = {met:val for met,val in zip(concentration.columns.values,concentration.loc[cellType,:].values)}\n",
    "print(concs)\n",
    "print(lacEx,gluUp)"
   ]
  },
  {
   "cell_type": "code",
   "execution_count": 4,
   "metadata": {
    "colab": {},
    "colab_type": "code",
    "id": "jJ4u6BHzICft"
   },
   "outputs": [],
   "source": [
    "def clip(val,max=1.0,min=0.0):\n",
    "    if val > max:\n",
    "        return max\n",
    "    if val < min:\n",
    "        return min\n",
    "    return val\n",
    "\n",
    "\n",
    "def fitModel(p,t,conc,exc,gluUp,init=100,ci = 95,initialParams = np.random.rand(5,1),numIts = 100,numPoints = 3,numCores=4):\n",
    "    ts = list(set(t))\n",
    "    ts.sort()\n",
    "    groupedData = {tt:{s:[] for s in range(len(p[0]))} for tt in ts}\n",
    "    \n",
    "    for row in range(len(p)):\n",
    "      for col in range(len(p[row])):\n",
    "        groupedData[t[row]][col].append(p[row,col])\n",
    "    df = 2\n",
    "    randomP = {tt:{s:[] for s in range(len(p[0]))} for tt in ts}\n",
    "    pool = Pool(numCores,maxtasksperchild=1)\n",
    "\n",
    "    q = Queue()\n",
    "    \n",
    "    fluxes = []\n",
    "    processes = []\n",
    "    \n",
    "    args = []\n",
    "    for x in range(numIts):\n",
    "        pr = Process(target=findFlux,args = (np.array([[clip(stats.t(df,np.mean(groupedData[tt][s]),\n",
    "                   np.std(groupedData[tt][s])).rvs(size=1)[0]) for s in range(len(p[0]))] for tt in t]),\n",
    "                   t,conc,exc,gluUp,initialParams,q))\n",
    "        if not q.empty():\n",
    "           fluxes.append(q.get())\n",
    "           processes = [x for x in processes if x.is_alive()]\n",
    "        while(len(processes) >= numCores):\n",
    "           if not q.empty():\n",
    "               fluxes.append(q.get())\n",
    "           processes = [x for x in processes if x.is_alive()]\n",
    "           if len(processes) >= numCores:\n",
    "                processes[0].join(timeout=15)\n",
    "                processes[0].terminate()\n",
    "        processes.append(pr)\n",
    "        pr.start()\n",
    "        print(x)\n",
    "    for x in processes:\n",
    "       while not q.empty():\n",
    "           fluxes.append(q.get())\n",
    "       x.join(timeout=15)\n",
    "       \n",
    "    while not q.empty():\n",
    "       fluxes.append(q.get())\n",
    "    \n",
    "    [p.terminate() for p in processes]\n",
    "    \n",
    "    fluxes = [x for x in fluxes if type(x) != type(-1)]\n",
    "\n",
    "    fluxes = np.array(fluxes)\n",
    "    flux = [np.mean(x) for x in fluxes.transpose()]\n",
    "\n",
    "    intervalParams = []\n",
    "    interval = []\n",
    "    for x in range(3):\n",
    "      temp = list(fluxes[:,x])\n",
    "      maxi = np.percentile(temp,100-((100-ci)/2),interpolation=\"nearest\")\n",
    "      mini = np.percentile(temp,(100-ci)/2,interpolation=\"nearest\")\n",
    "      indOfMax = temp.index(maxi)\n",
    "      indOfMin = temp.index(mini)\n",
    "      intervalParams.append([fluxes[indOfMin,:],fluxes[indOfMax,:]])\n",
    "      interval.append([mini,maxi]) \n",
    "      \n",
    "\n",
    "    return init,flux,interval,intervalParams,fluxes\n",
    "\n",
    "\n"
   ]
  },
  {
   "cell_type": "code",
   "execution_count": 5,
   "metadata": {
    "colab": {
     "base_uri": "https://localhost:8080/",
     "height": 293
    },
    "colab_type": "code",
    "id": "WWULfZohMbbY",
    "outputId": "3677a459-62eb-4efa-8fe0-d38ebfe11f10"
   },
   "outputs": [
    {
     "name": "stdout",
     "output_type": "stream",
     "text": [
      "[[1.         1.         1.         1.        ]\n",
      " [1.         1.         1.         1.        ]\n",
      " [1.         1.         1.         1.        ]\n",
      " [0.74555087 0.93487011 0.82710157 0.93817794]\n",
      " [0.79559378 0.96224733 0.87585173 0.96611057]\n",
      " [0.80272551 0.95622447 0.89175916 0.98197323]\n",
      " [0.70618834 0.93487011 0.78019126 0.9606519 ]\n",
      " [0.71302241 0.96224733 0.80015516 0.94611035]\n",
      " [0.69264163 0.95622447 0.80403146 0.94865548]\n",
      " [0.69845484 0.8834072  0.76600705 0.9451661 ]\n",
      " [0.701028   0.87154441 0.73808403 0.91991214]\n",
      " [0.67211898 0.85248421 0.69066505 0.90655205]\n",
      " [0.65035821 0.83891507 0.68728323 0.88332932]\n",
      " [0.66335045 0.84740026 0.70248954 0.90069974]\n",
      " [0.68941703 0.85000065 0.73258983 0.89809825]\n",
      " [0.62348553 0.8169121  0.57175577 0.86727829]\n",
      " [0.62015696 0.82864704 0.59587436 0.88268064]\n",
      " [0.63307915 0.82931481 0.69360631 0.87060651]\n",
      " [0.62692809 0.83256192 0.66410619 0.87830263]\n",
      " [0.65959437 0.84058328 0.69535298 0.87695046]]\n"
     ]
    }
   ],
   "source": [
    "data = pd.read_csv(\"../data/\" + cellType + \"/\" + cellType+\".csv\").to_numpy()\n",
    "t = data[:,0]\n",
    "p = data[:,(8,2,4,6)]\n",
    "p = p/100\n",
    "print(p)\n",
    "conc = [concs[\"Malate\"],concs[\"G3P\"],concs[\"Lactate\"],concs[\"NAD(H)\"]]\n"
   ]
  },
  {
   "cell_type": "code",
   "execution_count": null,
   "metadata": {
    "colab": {},
    "colab_type": "code",
    "id": "nm2em5zHaPCA",
    "scrolled": true
   },
   "outputs": [],
   "source": [
    "if __name__ == '__main__':\n",
    "    args = [[p,t,conc,lacEx,gluUp,np.random.rand(4,1)] for _ in range(numBestFitIters)]\n",
    "    startingParams = Pool(numCores).starmap(findFlux,args)\n",
    "    startingParams = [x for x in startingParams if type(x) != type(-1)]\n",
    "    plt.hist([[np.log10(x[-1]) for x in startingParams]])\n",
    "    startingParams.sort(key=lambda x: x[-1])\n",
    "    plt.show()\n"
   ]
  },
  {
   "cell_type": "code",
   "execution_count": null,
   "metadata": {
    "scrolled": true
   },
   "outputs": [],
   "source": [
    "bestParams = startingParams[0]\n",
    "print(bestParams)"
   ]
  },
  {
   "cell_type": "code",
   "execution_count": null,
   "metadata": {
    "colab": {
     "base_uri": "https://localhost:8080/",
     "height": 72
    },
    "colab_type": "code",
    "id": "9NnLGmzoOZd1",
    "outputId": "d9c632e8-7c2c-4041-98ac-fcd29e86eff7",
    "scrolled": true
   },
   "outputs": [],
   "source": [
    "bestParams = startingParams[0]\n",
    "print(bestParams)\n",
    "if __name__ == '__main__':\n",
    "    [init,flux,interval,intervalParams,allFluxes] = fitModel(p,t,conc,lacEx,gluUp,\n",
    "                   initialParams = [bestParams[0],bestParams[1],bestParams[3],bestParams[5]],numIts = numMonteCarloIters,numCores=numCores)\n",
    "pkl.dump([allFluxes,bestParams],open(\"../data/\" + str(cellType) + \"/\" + cellType + \".pkl\",\"wb\"))\n",
    "\n",
    "#[allFluxes,bestParams] = pkl.load(open( cellType + \".pkl\",\"rb\"))\n",
    "\n",
    "[interval,intervalParams,allFluxes] = removeBadSol(allFluxes,ci=95,cutoff=2*bestParams[-1],target=numMonteCarloIters_downsample)\n",
    "\n"
   ]
  },
  {
   "cell_type": "code",
   "execution_count": null,
   "metadata": {
    "colab": {},
    "colab_type": "code",
    "id": "9gy8BlJ9Ow89"
   },
   "outputs": [],
   "source": [
    "t_t = np.linspace(0,3*max(t),100)\n",
    "print(bestParams)\n",
    "\"\"\"\n",
    "[ 8.07073753e-01  5.64266110e-02  5.61447969e-01  9.84776390e-01\n",
    "  7.34287184e-01  2.11647608e-01 -1.39103625e-01  6.54110283e-01\n",
    "  8.11174172e-04]\n",
    "\n",
    "\"\"\"\n"
   ]
  },
  {
   "cell_type": "code",
   "execution_count": null,
   "metadata": {},
   "outputs": [],
   "source": [
    "outdict = {\"MDH\":{\"bestFit\":bestParams[0],\"LB\":interval[0][0],\"UB\":interval[0][1]},\n",
    "           \"GPD\":{\"bestFit\":bestParams[1],\"LB\":interval[1][0],\"UB\":interval[1][1]},\n",
    "           \"LDH\":{\"bestFit\":bestParams[2],\"LB\":interval[2][0],\"UB\":interval[2][1]},\n",
    "          \"SSE\":{\"bestFit\":bestParams[-1],\"LB\":None,\"UB\":None}}\n",
    "outdict = pd.DataFrame.from_dict(outdict,orient=\"index\")\n",
    "outdict.to_csv(\"../data/\" + cellType + \"/\" + cellType + \"_fluxes.csv\")\n",
    "outdict"
   ]
  },
  {
   "cell_type": "code",
   "execution_count": null,
   "metadata": {
    "colab": {
     "base_uri": "https://localhost:8080/",
     "height": 72
    },
    "colab_type": "code",
    "id": "nxqrLX7lQ4Hd",
    "outputId": "c1a25ed9-14e7-46fd-d43d-73efa25a9a54"
   },
   "outputs": [],
   "source": [
    "predictedL = integrateLabelingModel(t_t,bestParams[:3],np.append(conc[:-1],bestParams[5:6]),bestParams[6:-1],bestParams[3:5])\n"
   ]
  },
  {
   "cell_type": "code",
   "execution_count": null,
   "metadata": {
    "colab": {
     "base_uri": "https://localhost:8080/",
     "height": 1000
    },
    "colab_type": "code",
    "id": "Ozgp1DIGRBd_",
    "outputId": "3f593cca-9dfd-4cdb-c6e1-3c8e88311fc9",
    "scrolled": false
   },
   "outputs": [],
   "source": [
    "names = [\"ga3p\",\"Mal\",\"G3P\",\"Lac\"]\n",
    "plt.plot(t_t,predictedL[:,-1])\n",
    "plt.title(\"NADH\")\n",
    "\n",
    "plt.figure()\n",
    "plt.plot(t_t,predictedL[:,0])\n",
    "plt.title(\"Ga3P\")\n",
    "plt.scatter(t,p[:,0])\n",
    "\n",
    "for x in range(len(p[0])-1):\n",
    "  print(intervalParams[x])\n",
    "  fig = plt.figure()\n",
    "  predictedMaxL = integrateLabelingModel(t_t,intervalParams[x][1][:3],np.append(conc[:-1],intervalParams[x][1][5:6]),intervalParams[x][1][6:-1],intervalParams[x][1][3:5])\n",
    "  predictedMinL = integrateLabelingModel(t_t,intervalParams[x][0][:3],np.append(conc[:-1],intervalParams[x][0][5:6]),intervalParams[x][0][6:-1],intervalParams[x][0][3:5])\n",
    "  plt.scatter(t,p[:,x+1])\n",
    "  plt.plot(t_t,predictedL[:,x+1],label=\"Estimate\")\n",
    "  plt.plot(t_t,predictedMaxL[:,x+1],label=\"Max\")\n",
    "  plt.plot(t_t,predictedMinL[:,x+1],label=\"Min\")\n",
    "  plt.legend()\n",
    "\n",
    "  plt.xlabel(\"t\")\n",
    "  plt.ylabel(\"Unlabeled Percentage\")\n",
    "  plt.title(names[x+1] + \"  95% Confidence Interval = \" + str(np.round(interval[x][0],2))+ \"-\" + str(np.round(interval[x][1],2)))\n",
    "\n",
    "  plt.ylim((.5,1.0))\n",
    "    \n",
    "plt.show()\n",
    "\n"
   ]
  },
  {
   "cell_type": "code",
   "execution_count": null,
   "metadata": {
    "colab": {},
    "colab_type": "code",
    "id": "GXjLuiM7RVbe",
    "scrolled": false
   },
   "outputs": [],
   "source": [
    "names = [\"Glyceraldehyde 3 Phosphate\",\"MAS\",\"G3PS\",\"LDH\"]\n",
    "plt.rcParams[\"font.weight\"] = 500\n",
    "plt.rcParams[\"axes.labelweight\"] = 500\n",
    "uniqueTs = list(set(t))\n",
    "uniqueTs.sort()\n",
    "#pp = PdfPages(cellType + '.pdf')\n",
    "limits = [(40,100),(40,100),(40,100)]\n",
    "colors = [\"Grey\",\"Blue\",\"Red\"]\n",
    "fig,ax = plt.subplots(figsize=(3,3))\n",
    "\n",
    "for x,color in zip(range(len(p[0])-1),colors):\n",
    "  data2Plot = {tt:[] for tt in uniqueTs}\n",
    "  for tt,ll in zip(t,p[:,x+1]):\n",
    "        data2Plot[tt].append(ll)\n",
    "  ydata = [100*np.mean(data2Plot[tt]) for tt in uniqueTs]\n",
    "  yerr = [100*np.std(data2Plot[tt])/np.sqrt(len(data2Plot[tt])) for tt in uniqueTs] \n",
    "  \n",
    "  print(intervalParams[x])\n",
    "  integrateLabelingModel(t_t,intervalParams[x][0][:3],conc,intervalParams[x][0][6:],intervalParams[x][0][3:6])\n",
    "  plt.errorbar(uniqueTs,ydata,yerr=yerr,fmt=\"o\",capsize=2,color=color,capthick=.35,markersize=3,elinewidth=0.5)\n",
    "  plt.plot(t_t,[100*i for i in predictedL[:,x+1]],label=names[x+1],color=color,linewidth=1.7)\n",
    " \n",
    "  #plt.xlabel(\"Time (minutes)\",fontname=\"Arial\",fontsize=16,color='black')\n",
    "  plt.xlabel(\"Time (minutes)\",fontsize=16,color='black')\n",
    "  plt.ylabel(\"Unlabeled enrichment (%)\",fontsize = 16,fontname = \"Arial\",color='black')\n",
    "  #plt.title(names[x+1] + \" Flux = \" + str(np.round(bestParams[x],2)) + \" 95% CI = [\" + str(np.round(interval[x][0],2))+ \",\" + str(np.round(interval[x][1],2)) + \"]\")\n",
    "  #plt.title(names[x+1],fontsize=10,fontname = \"Arial\") \n",
    "  plt.xlim((0,40))\n",
    "  plt.ylim(limits[x])\n",
    "  fig.tight_layout()\n",
    "ax=plt.gca();\n",
    "ax.spines['bottom'].set_linewidth(1.7);\n",
    "ax.spines['left'].set_linewidth(1.7);\n",
    "plt.tick_params(labelsize=17)\n",
    "labels = ax.get_xticklabels() + ax.get_yticklabels()\n",
    "[label.set_fontname('Arial') for label in labels]\n",
    "\n",
    "axis = plt.gca().xaxis\n",
    "axis.get_ticklabels()  \n",
    "axis.get_ticklines()  \n",
    "for label in axis.get_ticklabels():\n",
    "    label.set_color('black')          \n",
    "    label.set_fontsize(17)          \n",
    "for line in axis.get_ticklines():\n",
    "    line.set_color('black')\n",
    "    line.set_markersize(6)         \n",
    "    line.set_markeredgewidth(2)     \n",
    "    \n",
    "axis = plt.gca().yaxis\n",
    "axis.get_ticklabels()  \n",
    "axis.get_ticklines()  \n",
    "for label in axis.get_ticklabels():\n",
    "    label.set_color('black')          \n",
    "    label.set_fontsize(17)          \n",
    "for line in axis.get_ticklines():\n",
    "    line.set_color('black')\n",
    "    line.set_markersize(6)         \n",
    "    line.set_markeredgewidth(2)     \n",
    "    \n",
    "\n",
    "\n",
    "\n",
    "\n",
    "right_side = ax.spines[\"right\"]\n",
    "right_side.set_visible(False)\n",
    "\n",
    "top_side = ax.spines[\"top\"]\n",
    "top_side.set_visible(False)\n",
    "\n",
    "plt.legend(frameon=False) \n",
    "plt.savefig(\"../data/\" + cellType + \"/\" + cellType + \".png\")\n",
    "#pp.savefig(fig)\n",
    "#pp.savefig(fig)\n",
    "\n",
    "\n",
    "\n",
    "\n"
   ]
  },
  {
   "cell_type": "code",
   "execution_count": null,
   "metadata": {
    "colab": {},
    "colab_type": "code",
    "id": "1NV91eYOQV3W",
    "scrolled": false
   },
   "outputs": [],
   "source": [
    "names = [\"Glyceraldehyde 3 Phosphate\",\"MAS\",\"G3P\",\"LAC\"]\n",
    "\n",
    "\n",
    "uniqueTs = list(set(t))\n",
    "uniqueTs.sort()\n",
    "pp = PdfPages(\"../data/\" + cellType + \"/\" + cellType + '.pdf')\n",
    "limits = [(70,100),(50,100),(80,100)]\n",
    "#colors = [\"Grey\",\"dodgerblue\",\"Red\"]\n",
    "for x in range(len(p[0])-1):\n",
    "  data2Plot = {tt:[] for tt in uniqueTs}\n",
    "  for tt,ll in zip(t,p[:,x+1]):\n",
    "        data2Plot[tt].append(ll)\n",
    "  ydata = [100*np.mean(data2Plot[tt]) for tt in uniqueTs]\n",
    "  yerr = [100*np.std(data2Plot[tt]) for tt in uniqueTs] \n",
    "  fig = plt.figure(figsize=(4,4))\n",
    "  \n",
    "  print(intervalParams[x])\n",
    "  integrateLabelingModel(t_t,intervalParams[x][0][:3],conc,intervalParams[x][0][5:],intervalParams[x][0][3:5])\n",
    "  plt.errorbar(uniqueTs,ydata,yerr=yerr,fmt=\"o\",capsize=2,color=\"black\",capthick=.35,markersize=2,elinewidth=.50)\n",
    "  plt.plot(t_t,[100*i for i in predictedL[:,x+1]],label=names[x+1],color=\"black\",linewidth=.50)\n",
    " \n",
    "  plt.xlabel(\"time (minutes)\",fontname=\"Arial\",fontsize=10)\n",
    "  plt.ylabel(\"unlabeled percentage (%)\",fontsize = 10,fontname = \"Arial\")\n",
    "  #plt.title(names[x+1] + \" Flux = \" + str(np.round(bestParams[x],2)) + \" 95% CI = [\" + str(np.round(interval[x][0],2))+ \",\" + str(np.round(interval[x][1],2)) + \"]\")\n",
    "  plt.title(names[x+1],fontsize=10,fontname = \"Arial\") \n",
    "  plt.xlim((0,40))\n",
    "  plt.ylim(limits[x])\n",
    "  fig.tight_layout()\n",
    "  pp.savefig(fig)\n",
    "\n",
    "pp.close()\n",
    "plt.show()\n"
   ]
  },
  {
   "cell_type": "code",
   "execution_count": 11,
   "metadata": {},
   "outputs": [],
   "source": [
    "# delta = .001\n",
    "# for f,i in zip(bestParams[:-1],range(len(bestParams[:-1]))):\n",
    "#     x0 = predictedL\n",
    "#     tempFlux = list(bestParams)\n",
    "#     tempFlux[i] += delta*tempFlux[i]\n",
    "#     integrateLabelingModel(t_t,bestParams[:3],np.append(conc[:-1],bestParams[5:6]),bestParams[6:-1],bestParams[3:5])\n",
    "#     x1 = integrateLabelingModel(t_t,tempFlux[:3],np.append(conc[:-1],tempFlux[5:6]),tempFlux[6:-1],tempFlux[3:5])\n",
    "#     tempFlux = list(bestParams)\n",
    "#     tempFlux[i] -= delta*tempFlux[i]\n",
    "#     x2 = integrateLabelingModel(t_t,tempFlux[:3],np.append(conc[:-1],tempFlux[5:6]),tempFlux[6:-1],tempFlux[3:5])\n",
    "#     diff1 = np.abs(np.subtract(x0,x1))\n",
    "#     diff2 = np.abs(np.subtract(x0,x2))\n",
    "#     diff = (diff1 + diff2)/2\n",
    "#     diff = np.sum(diff)/diff.size\n",
    "#     sensitivity = diff/(delta*tempFlux[i])\n",
    "#     print(sensitivity)"
   ]
  },
  {
   "cell_type": "code",
   "execution_count": null,
   "metadata": {},
   "outputs": [],
   "source": []
  },
  {
   "cell_type": "code",
   "execution_count": null,
   "metadata": {},
   "outputs": [],
   "source": []
  },
  {
   "cell_type": "code",
   "execution_count": null,
   "metadata": {},
   "outputs": [],
   "source": []
  },
  {
   "cell_type": "code",
   "execution_count": null,
   "metadata": {},
   "outputs": [],
   "source": []
  },
  {
   "cell_type": "code",
   "execution_count": null,
   "metadata": {},
   "outputs": [],
   "source": []
  }
 ],
 "metadata": {
  "colab": {
   "collapsed_sections": [],
   "name": "MAS_LDH_G3P_fluxCalc_monteCarlo_Ga3p_correction_fullModel.ipynb",
   "provenance": []
  },
  "kernelspec": {
   "display_name": "Python 3",
   "language": "python",
   "name": "python3"
  },
  "language_info": {
   "codemirror_mode": {
    "name": "ipython",
    "version": 3
   },
   "file_extension": ".py",
   "mimetype": "text/x-python",
   "name": "python",
   "nbconvert_exporter": "python",
   "pygments_lexer": "ipython3",
   "version": "3.7.6"
  }
 },
 "nbformat": 4,
 "nbformat_minor": 1
}
